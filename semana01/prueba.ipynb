{
 "cells": [
  {
   "cell_type": "markdown",
   "metadata": {},
   "source": [
    "# Pruebas\n",
    "\n",
    "EL profesor en la clase mencionó cosas que nunca habia escuchado o trabajado. Dentro de una de las cosas que se me quedaron en la mente, fueron los colores en las imagenes, yo conocía y había trabajado previamente en matrices $n \\times m \\times 3$ para RGB, pero nunca me había puesto a pensar en otras opciones, como se mencionaron en clases."
   ]
  },
  {
   "cell_type": "code",
   "execution_count": 3,
   "metadata": {},
   "outputs": [],
   "source": [
    "import numpy as np\n",
    "import matplotlib.pyplot as plt"
   ]
  },
  {
   "cell_type": "markdown",
   "metadata": {},
   "source": [
    "## Colores\n",
    "\n",
    "Las que se mencionaron fueron:\n",
    "* **RGB**. No lo trataré aquí, si acaso está [acá](./t00067699_tarea1.ipynb)\n",
    "* **HSV**.\n",
    "* **CMYK**.\n",
    "* **Hexadecimal**."
   ]
  },
  {
   "cell_type": "code",
   "execution_count": null,
   "metadata": {},
   "outputs": [],
   "source": []
  },
  {
   "cell_type": "markdown",
   "metadata": {},
   "source": [
    "## Rotaciones\n",
    "\n",
    "Me gustaría hacer más pruebas con las rotaciones porque so bien entendí, quiero terminar de entenderlo bien, haciendo, precisamente, pruebas"
   ]
  },
  {
   "cell_type": "code",
   "execution_count": null,
   "metadata": {},
   "outputs": [],
   "source": []
  },
  {
   "cell_type": "markdown",
   "metadata": {},
   "source": [
    "## SVD\n",
    "\n",
    "En la primera clase no se explicó SVD porque no nos compete, ese es tema de quienes estén haciendo magister, pero por lo mismo, me interesó probarlo un poco"
   ]
  },
  {
   "cell_type": "code",
   "execution_count": 4,
   "metadata": {},
   "outputs": [],
   "source": [
    "u, s_diag, vt = np.linalg.svd(np.array([[1, 2, 3], [3, 4, 5], [6, 7, 8]]))\n",
    "s = np.zeros((2, 3), dtype=\"float32\")\n",
    "np.fill_diagonal(s, s_diag)\n"
   ]
  },
  {
   "cell_type": "code",
   "execution_count": null,
   "metadata": {},
   "outputs": [],
   "source": []
  }
 ],
 "metadata": {
  "kernelspec": {
   "display_name": ".venv",
   "language": "python",
   "name": "python3"
  },
  "language_info": {
   "codemirror_mode": {
    "name": "ipython",
    "version": 3
   },
   "file_extension": ".py",
   "mimetype": "text/x-python",
   "name": "python",
   "nbconvert_exporter": "python",
   "pygments_lexer": "ipython3",
   "version": "3.12.9"
  }
 },
 "nbformat": 4,
 "nbformat_minor": 2
}
